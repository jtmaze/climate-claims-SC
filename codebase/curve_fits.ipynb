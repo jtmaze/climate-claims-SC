{
 "cells": [
  {
   "cell_type": "markdown",
   "id": "d0b3bdb8-22d1-459d-8ac0-770d1ac9f1b3",
   "metadata": {},
   "source": [
    "### Curve fitting with scipy"
   ]
  },
  {
   "cell_type": "code",
   "execution_count": null,
   "id": "3bb764f3-a18d-4ec3-8e92-0c54e097233c",
   "metadata": {},
   "outputs": [],
   "source": []
  }
 ],
 "metadata": {
  "kernelspec": {
   "display_name": "Python 3 (ipykernel)",
   "language": "python",
   "name": "python3"
  },
  "language_info": {
   "codemirror_mode": {
    "name": "ipython",
    "version": 3
   },
   "file_extension": ".py",
   "mimetype": "text/x-python",
   "name": "python",
   "nbconvert_exporter": "python",
   "pygments_lexer": "ipython3",
   "version": "3.12.3"
  }
 },
 "nbformat": 4,
 "nbformat_minor": 5
}
