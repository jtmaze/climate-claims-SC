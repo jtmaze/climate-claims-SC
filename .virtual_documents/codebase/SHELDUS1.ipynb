


import pandas as pd
import numpy as np
import os
import geopandas as gpd

import matplotlib.pyplot as plt
import matplotlib.colors as mcolors
from matplotlib.colors import Normalize

os.chdir("/Users/jtmaz/Documents/geog590/")





claims = pd.read_csv('./project_data/SC-claimsA.csv', index_col=False)

# Drop columns which we aren't using
drop_cols = [
    'StateName', 'Fatalities', 'FatalitiesDuration', 'FatalitiesPerCapita', 
    'Glide', 'Injuries', 'InjuriesDuration', 'InjuriesPerCapita', 'PropertyDmgDuration'
]

claims.drop(columns=drop_cols, inplace=True)

# Some of the column names have bad syntax
claims.rename(columns={' Hazard': 'Hazard', ' CountyName': 'CountyName'}, inplace=True)

# For the purpose of this project we'll ignore landslides. Those are predominately 
# geologic, not climate. Also, not common in SC.
claims = claims[claims['Hazard'] != 'Landslide']

# Some claims amounts are $0, this is useless for many analyses
claims = claims[claims['PropertyDmg(ADJ)'] > 0]

claims.head()








df = claims.groupby('Year').agg({
    'PropertyDmg(ADJ)': 'sum',
    'Year': 'first'})

plt.figure(figsize=(10, 6))
plt.fill_between(df['Year'], df['PropertyDmg(ADJ)']/1e6, color='skyblue', alpha=0.4)
plt.plot(df['Year'], df['PropertyDmg(ADJ)']/1e6, color='Slateblue', alpha=0.6)
plt.title("South Carolina Insurance Claims 1960-2022 (All disasters)")
plt.xlabel("Year")
plt.ylabel("Claims Millions of Dollars")
plt.show()








worst_events = claims.groupby('EventName').agg({
    'PropertyDmg(ADJ)': 'sum'
})

total_dollars = claims['PropertyDmg(ADJ)'].sum()

worst_events['percent_all_claims_dollars'] = (
    worst_events['PropertyDmg(ADJ)'] / total_dollars * 100
)

worst_events['millions_dollars'] = worst_events['PropertyDmg(ADJ)'] / 1e6

worst_events.sort_values(
    by='percent_all_claims_dollars', 
    ascending=False, 
    inplace=True
)

worst_events = worst_events.drop(columns=['PropertyDmg(ADJ)'])

worst_events.round(2).head()








claims2 = claims[claims['EventName'] != "Hurricane 1989 Hugo"]
claims_noHugo = claims2.copy()

df2 = claims2.groupby('Year').agg({
    'PropertyDmg(ADJ)': 'sum',
    'Year': 'first'})

claims3 = claims[(claims['EventName'] != "Hurricane 1989 Hugo") & (claims['EventName'] != "Drought/Heatwave 1993 Southeast")]
df3 = claims3.groupby('Year').agg({
    'PropertyDmg(ADJ)': 'sum',
    'Year': 'first'})

fig, axs = plt.subplots(nrows=3, ncols=1, figsize=(6, 8))

#First panel Includes Hugo
axs[0].fill_between(df['Year'], df['PropertyDmg(ADJ)']/1e6, color='skyblue', alpha=0.4, label='Hurricane Hugo')
axs[0].plot(df['Year'], df['PropertyDmg(ADJ)']/1e6, color='Slateblue', alpha=0.6)
axs[0].fill_between(df2['Year'], df2['PropertyDmg(ADJ)']/1e6, color='orange', alpha=0.4, label='1993 Drought')
axs[0].plot(df2['Year'], df2['PropertyDmg(ADJ)']/1e6, color='red', alpha=0.8)
axs[0].fill_between(df3['Year'], df3['PropertyDmg(ADJ)']/1e6, color='lightgreen', alpha=0.7, label='All other disasters')
axs[0].plot(df3['Year'], df3['PropertyDmg(ADJ)']/1e6, color='darkgreen', alpha=1)
axs[0].set_title("All Events (Showing impact of Hurricane Hugo)")
axs[0].legend()


# Second panel doesn't include Hugo
axs[1].fill_between(df2['Year'], df2['PropertyDmg(ADJ)']/1e6, color='orange', alpha=0.4)
axs[1].plot(df2['Year'], df2['PropertyDmg(ADJ)']/1e6, color='red', alpha=0.8)
axs[1].fill_between(df3['Year'], df3['PropertyDmg(ADJ)']/1e6, color='lightgreen', alpha=0.7)
axs[1].plot(df3['Year'], df3['PropertyDmg(ADJ)']/1e6, color='darkgreen', alpha=1)
axs[1].set_title("Excluding Hurricane Hugo but including 1993 Drought")

# Third panel doesn't include Hugo or 1993 Drought
axs[2].fill_between(df3['Year'], df3['PropertyDmg(ADJ)']/1e6, color='lightgreen', alpha=0.7)
axs[2].plot(df3['Year'], df3['PropertyDmg(ADJ)']/1e6, color='darkgreen', alpha=1)
axs[2].set_title("Excluding 1993 Drought & Hurricane Hugo")

#fig.supxlabel('Year', fontsize=16)
fig.supylabel('Claims (Millions of Dollars)', fontsize=16)

plt.tight_layout()
plt.show()

del claims2, claims3, df2, df3





hazard_types = claims['Hazard'].unique().tolist()
print(len(hazard_types))





def hazard_broad_reclass(hazard):
    # 2. Heat, Drought and Wildfire
    if 'Heat' in hazard or 'Drought' in hazard or 'Wildfire' in hazard:
        return "Drought/Heat/Wildfire"
    # 3. Hurricanes and Tropical Storms
    if 'Hurricane' in hazard or 'Tropical Storm' in hazard:
        return "Hurricane/TropicalStorm"
    # 4. General Stormy Weather includes Tornados
    if ('Tornado' in hazard or 
        'Severe Storm' in hazard or 
        'Thunder Storm' in hazard or 
        'Hail' in hazard or
        'Wind' in hazard or
        'Flooding' in hazard or
        'Lightning' in hazard): 
        return "GeneralStorm"
    if 'Winter Weather' in hazard:
        return "WinterWeather"
    # 5. Unclassified (e.g. fog)
    else:
        return "Unclassified"

claims_noHugo['hazard_broad'] = claims_noHugo['Hazard'].apply(hazard_broad_reclass)

# Check to ensure reclass as expected. 
reclass = claims_noHugo[['Hazard', 'hazard_broad']].drop_duplicates()

# See how many $ are unclassified
unclass_claims = claims_noHugo['PropertyDmg(ADJ)'][claims_noHugo['hazard_broad'] == 'Unclassified'].sum()
unclass_perc = unclass_claims/total_dollars * 100

print(f'{unclass_perc:.2f} % Unclassified')












fig, ax = plt.subplots(figsize=(8, 8))

ax.hist(claims_noHugo['PropertyDmg(ADJ)'] / 1e6, bins=50, color='skyblue', alpha=0.5, edgecolor='black')
ax.set_yscale('log')
ax.set_ylabel('Occurance of claim value (log scale)')
ax.set_xlabel('Loss amount (Millions of Dollars)') 
ax.set_title('Occurance vs Severity for all disasters (ex Hugo)')
plt.show()






winter_weather = claims_noHugo[claims_noHugo['hazard_broad'] == 'WinterWeather'].copy()
drought_heat_wildfire = claims_noHugo[claims_noHugo['hazard_broad'] == 'Drought/Heat/Wildfire'].copy()
hurricanes = claims_noHugo[claims_noHugo['hazard_broad'] == "Hurricane/TropicalStorm"].copy()
generalstorms = claims_noHugo[claims_noHugo['hazard_broad'] == "GeneralStorm"].copy()


fig, axs = plt.subplots(nrows=2, ncols=2, figsize=(12,10))

colors = ['magenta', 'orange', 'navy', 'mediumseagreen']

axs[0, 0].hist(winter_weather['PropertyDmg(ADJ)']/1e6, bins=15, alpha = 0.7, color=colors[0], edgecolor='black')
axs[0, 0].set_yscale('log')
axs[0, 0].set_title('Winter Weather Damages')

axs[0, 1].hist(drought_heat_wildfire['PropertyDmg(ADJ)']/1e6, bins=40, alpha = 0.7, color=colors[1], edgecolor='black')
axs[0, 1].set_yscale('log')
axs[0, 1].set_title('Drought, Heat & Wildfire Damages')

axs[1, 0].hist(hurricanes['PropertyDmg(ADJ)']/1e6, bins=50, alpha = 0.7, color=colors[2], edgecolor='black')
axs[1, 0].set_yscale('log')
axs[1, 0].set_title('Hurricane and Tropical Storm Damages')

axs[1, 1].hist(generalstorms['PropertyDmg(ADJ)']/1e6, bins=70, alpha = 0.7, color=colors[3], edgecolor='black')
axs[1, 1].set_yscale('log')
axs[1, 1].set_title('General Storms Damages')

x_limits = [0, max(claims_noHugo['PropertyDmg(ADJ)']) / 1e6]
for ax in axs.flat:
    ax.set_xlim(x_limits)
    
fig.supxlabel('Claim Amount (Millions of Dollars)', fontsize=16)
fig.supylabel('Occurances of claims (log scale)', fontsize=16)

plt.tight_layout()
plt.show()





counties = gpd.read_file('./project_data/county_shapefiles/tl_2021_us_county.shp')
counties = counties.query("STATEFP == '45'")

# Convert FIPS to characters for merging.
claims_noHugo['County_FIPS'] = claims_noHugo['County_FIPS'].astype(int).astype(str)

claims_gdf = pd.merge(
    claims_noHugo, 
    counties[['GEOID', 'geometry']], 
    left_on=['County_FIPS'], 
    right_on=['GEOID'], how='left'
    )

claims_gdf = claims_gdf.set_geometry('geometry')








# Prepare data for plot
gdf_temp = claims_gdf.groupby('County_FIPS').agg({
    'PropertyDmgPerCapita': 'sum',
    'CountyName': 'first',
    'geometry': 'first'
}).reset_index()
gdf_temp = gdf_temp.set_geometry('geometry')
gdf_temp = gdf_temp.set_crs(counties.crs)

# Render the plot
fig, ax = plt.subplots(1, 1, figsize=(15, 20))

gdf_temp.plot(column='PropertyDmgPerCapita', ax=ax, cmap='coolwarm', alpha=0.9, edgecolor='black')

cax = fig.add_axes([0.25, 0.2, 0.5, 0.03])
sm = plt.cm.ScalarMappable(
    cmap='coolwarm', 
    norm=plt.Normalize(vmin=gdf_temp['PropertyDmgPerCapita'].min(), 
                       vmax=gdf_temp['PropertyDmgPerCapita'].max()
                       )
    )

sm._A = []
cbar = fig.colorbar(sm, cax=cax, orientation='horizontal')
cbar.set_label('Inflation adjusted dollars ($)', fontsize=18)
ax.set_title('All Damages (ex-Hugo) per-capita for SC (1960-2022)', fontsize=24)
ax.set_xlabel('Longitude')
ax.set_ylabel('Latitude')

plt.show()

# Clean up 
del gdf_temp





gdf_temp = claims_gdf.groupby(['County_FIPS', 'hazard_broad']).agg(
    total_dmg_adj=('PropertyDmg(ADJ)', 'sum'),
    geometry=('geometry', 'first')
).reset_index()
gdf_temp = gdf_temp.set_geometry('geometry')
gdf_temp = gdf_temp.set_crs(counties.crs)

# Group by county FIPS and return the maximum damage column
gdf_temp2 = gdf_temp.loc[gdf_temp.groupby('County_FIPS')['total_dmg_adj'].idxmax()]


gdf_temp2['centroid'] = gdf_temp2.geometry.centroid

gdf_temp2 = gpd.GeoDataFrame(gdf_temp2, geometry='centroid')

# Assign the colors to hazard type for plotting
colors = ['orange', 'mediumseagreen', 'navy', 'magenta']
hazards = sorted(gdf_temp2['hazard_broad'].unique().tolist())
color_map = {category: colors[i % len(colors)] for i, category in enumerate(hazards)}

# Map colors to gdf
gdf_temp2['color'] = gdf_temp2['hazard_broad'].map(color_map)

fig, ax = plt.subplots(figsize=(12, 12))
gdf_temp['geometry'].plot(ax=ax, edgecolor='black', facecolor='none')
gdf_temp2.plot(
    ax=ax,
    color=gdf_temp2['color'],
    markersize=gdf_temp2['total_dmg_adj'] / gdf_temp2['total_dmg_adj'].max() * 1000,
    legend='True'
)

handles = [plt.Line2D([0], [0], marker='o', color='w', markerfacecolor=color_map[cat], markersize=10) for cat in hazards]
labels = hazards
ax.legend(handles, labels, title='Hazard Type')
ax.set_title('Most Damaging Hazard Types (1960-2022) -- Scaled by Damage Amount ($)', size=20)

plt.show()





grouped = claims_gdf.groupby(['CountyName', 'hazard_broad'])['PropertyDmgPerCapita'].sum().unstack()
grouped.drop(columns=['Unclassified'], inplace=True)

grouped['Total'] = grouped.sum(axis=1)

# Sort the DataFrame by the 'Total' column in descending order
grouped = grouped.sort_values(by='Total', ascending=False)

# Drop the 'Total' column after sorting
grouped = grouped.drop(columns=['Total'])


bar_colors = [color_map[hazard] for hazard in grouped.columns]

# Plotting
fig, ax = plt.subplots(figsize=(18, 12))
grouped.plot(kind='bar', stacked=True, ax=ax, color=bar_colors, edgecolor='black')

# Adding labels and title
plt.xlabel('County Name', fontsize=16)
for tick in ax.get_xticklabels():
    tick.set_fontweight('bold')
    tick.set_fontsize(12)
plt.ylabel('Total Property Damage Per Capita', fontsize=20)
plt.title('Property Damage by Hazard and County', fontsize=24)
plt.legend(title='Hazard Type')
plt.show()







gdf_temp1 = claims_gdf[claims_gdf['Year'] <= 1991]

gdf_temp1 = gdf_temp1.groupby('County_FIPS').agg({
    'PropertyDmgPerCapita': 'sum',
    'CountyName': 'first',
    'geometry': 'first'
}).reset_index()

gdf_temp1 = gdf_temp1.set_geometry('geometry')
gdf_temp1 = gdf_temp1.set_crs(counties.crs)

gdf_temp2 = claims_gdf[claims_gdf['Year'] > 1991]
gdf_temp2 = gdf_temp2.groupby('County_FIPS').agg({
    'PropertyDmgPerCapita': 'sum',
    'CountyName': 'first',
    'geometry': 'first'
}).reset_index()

gdf_temp2 = gdf_temp2.set_geometry('geometry')
gdf_temp2 = gdf_temp2.set_crs(counties.crs)


# Make the comparison plot
fig, axs = plt.subplots(1, 2, figsize=(16, 16))

vmin = min(gdf_temp1['PropertyDmgPerCapita'].min(), gdf_temp2['PropertyDmgPerCapita'].min())
vmax = max(gdf_temp1['PropertyDmgPerCapita'].max(), gdf_temp2['PropertyDmgPerCapita'].max())
norm = Normalize(vmin=vmin, vmax=vmax)


# Plotting the GeoDataFrames on the respective axes
gdf_temp1.plot(column='PropertyDmgPerCapita', ax=axs[0], cmap='coolwarm', edgecolor='black', norm=norm)
gdf_temp2.plot(column='PropertyDmgPerCapita', ax=axs[1], cmap='coolwarm', edgecolor='black', norm=norm)

# Adding titles to the subplots
axs[0].set_title('Inflation Adjusted Property Damage Per Capita (1960-1991)', fontsize=14)
axs[1].set_title('Inflation Adjusted Property Damage Per Capita (1992-2022)', fontsize=14)

# Add a color bar 
cbar = fig.colorbar(plt.cm.ScalarMappable(norm=norm, cmap='coolwarm'), 
                    ax=axs, 
                    orientation='horizontal', 
                    fraction=0.05, 
                    pad=0.1
)
cbar.set_label('Inflation adjusted dollars ($)', fontsize=16)

# Adding axis titles
axs[0].set_xlabel('Longitude')
axs[0].set_ylabel('Latitude')
axs[1].set_xlabel('Longitude')
axs[1].set_ylabel('Latitude')

plt.show()

del gdf_temp1, gdf_temp2





claims_noHugo.to_csv('./project_data/claims_v2.csv', index=False)






